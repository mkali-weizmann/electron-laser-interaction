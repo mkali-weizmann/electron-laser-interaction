{
 "cells": [
  {
   "cell_type": "markdown",
   "id": "c1232da9",
   "metadata": {
    "pycharm": {
     "name": "#%% md\n"
    }
   },
   "source": [
    "# Imports:"
   ]
  },
  {
   "cell_type": "code",
   "execution_count": 8,
   "id": "7099f61f",
   "metadata": {
    "pycharm": {
     "name": "#%%\n"
    }
   },
   "outputs": [],
   "source": [
    "from microscope import *\n",
    "import ipywidgets as widgets\n",
    "\n",
    "%matplotlib inline"
   ]
  },
  {
   "cell_type": "markdown",
   "id": "f99b10fd",
   "metadata": {
    "pycharm": {
     "name": "#%% md\n"
    }
   },
   "source": [
    "# Interactive simulation:"
   ]
  },
  {
   "cell_type": "code",
   "execution_count": 2,
   "id": "68a455e2",
   "metadata": {
    "pycharm": {
     "name": "#%%\n"
    }
   },
   "outputs": [],
   "source": [
    "l_1 = 1064e-9\n",
    "l_2 = 532e-9\n",
    "pixel_size = 1e-10\n",
    "N_POINTS = 256  # Resolution of image\n",
    "\n",
    "input_coordinate_system = CoordinateSystem(dxdydz=(pixel_size, pixel_size), n_points=(N_POINTS, N_POINTS))\n",
    "first_wave = WaveFunction(psi=np.ones((N_POINTS, N_POINTS)),\n",
    "                          coordinates=input_coordinate_system,\n",
    "                          E0=Joules_of_keV(300))\n",
    "\n",
    "dummy_sample = SamplePropagator(dummy_potential=f'letters_{N_POINTS}',\n",
    "                                coordinates_for_dummy_potential=CoordinateSystem(axes=(input_coordinate_system.x_axis,\n",
    "                                                                                       input_coordinate_system.y_axis,\n",
    "                                                                                       np.linspace(-5e-10, 5e-10, 2)\n",
    "                                                                                       )))\n",
    "\n",
    "\n",
    "first_lens = LensPropagator(focal_length=3.3e-3, fft_shift=True)\n",
    "second_lens = LensPropagator(focal_length=3.3e-3, fft_shift=False)"
   ]
  },
  {
   "cell_type": "code",
   "execution_count": null,
   "id": "d11e40ef",
   "metadata": {
    "pycharm": {
     "name": "#%%\n"
    }
   },
   "outputs": [],
   "source": [
    "E_1_default = find_amplitude_for_phase(starting_E=1e7, cavity_type='analytical', print_progress=False, NA_1=0.05)\n",
    "def f(NA_1, defocus_nm, Cs_mm, n_electrons, ring_cavity, E_1):\n",
    "    cavity = CavityAnalyticalPropagator(l_1=l_1, l_2=l_2, E_1=E_1, NA_1=NA_1, ring_cavity=ring_cavity)\n",
    "    aberration_propagator = AberrationsPropagator(Cs=Cs_mm*1e-3, defocus=defocus_nm*1e-9, astigmatism_parameter=0, astigmatism_orientation=0)\n",
    "\n",
    "    M_2f_a = Microscope([dummy_sample, first_lens, cavity, second_lens, aberration_propagator], n_electrons_per_square_angstrom=n_electrons)\n",
    "    pic_2f_a = M_2f_a.take_a_picture(first_wave)\n",
    "\n",
    "#     fig, ax = plt.subplots(1, 1, figsize=(14, 10))\n",
    "    fig = plt.figure(figsize=(14, 10))\n",
    "    phase_mask = cavity.load_or_calculate_phase_and_amplitude_mask(M_2f_a.step_of_propagator(cavity).output_wave)\n",
    "    middle_phase_mask_value = phase_mask[phase_mask.shape[0] // 2, phase_mask.shape[1] // 2]\n",
    "    attenuation_factor = np.abs(middle_phase_mask_value)\n",
    "    phase_factor = np.real(np.angle(middle_phase_mask_value))\n",
    "    plt.title(f' phase_factor over pi{phase_factor / np.pi:.2f} {attenuation_factor=:.2f}')\n",
    "    plt.imshow(pic_2f_a.values, extent=pic_2f_a.coordinates.limits)\n",
    "    plt.colorbar()\n",
    "\n",
    "    plt.xlabel(\"y\")\n",
    "    plt.ylabel(\"x\")\n",
    "    return phase_factor, attenuation_factor\n",
    "\n",
    "I = widgets.interactive(f, NA_1=(0.001, 0.2, 0.01), defocus_nm=(-1000, 1000, 1), Cs_mm=(0, 5, 0.01), n_electrons=(0, 3000, 20), ring_cavity=True, E_1=(0, E_1_default * 2, E_1_default / 100));\n",
    "button = widgets.Button(description=\"Save Image\")\n",
    "\n",
    "display(button)\n",
    "display(I)\n",
    "\n",
    "\n",
    "def on_button_clicked(b):\n",
    "    d = dict(zip([s.description for s in I.children[:-1]], [s.value for s in I.children[:-1]]))\n",
    "    phase_factor, attenuation_factor = f(**d)\n",
    "    text_to_add = f' phase_factor over pi{phase_factor / np.pi:.2f} {attenuation_factor=:.2f}'\n",
    "    title = \"\".join([f'{key}= {value:.2e} ' if isinstance(value, float) else f'{key}= {value} '  for key, value in d.items()])\n",
    "    title += text_to_add\n",
    "    plt.title(title)\n",
    "    plt.savefig(f\"examples\\\\{title}.png\")\n",
    "    plt.close()\n",
    "button.on_click(on_button_clicked)"
   ]
  },
  {
   "cell_type": "code",
   "execution_count": null,
   "id": "055f497e",
   "metadata": {
    "pycharm": {
     "name": "#%%\n"
    }
   },
   "outputs": [],
   "source": [
    "def f(infinitesimal_mask, radius_microns, mask_phase_in_pies, mask_attenuation, defocus_nm, Cs_nm, n_electrons):\n",
    "    if infinitesimal_mask:\n",
    "        r = -1\n",
    "    else:\n",
    "        r = radius_microns * 1e-6\n",
    "            \n",
    "    cavity = DummyPhaseMask(mask_width_meters=r, mask_phase=-mask_phase_in_pies * np.pi, mask_attenuation=mask_attenuation)\n",
    "    aberration_propagator = AberrationsPropagator(Cs=Cs_nm*1e-9, defocus=defocus_nm*1e-9, astigmatism_parameter=0, astigmatism_orientation=0)\n",
    "    \n",
    "    M_2f_a = Microscope([dummy_sample, first_lens, cavity, second_lens, aberration_propagator], n_electrons_per_square_angstrom=n_electrons)\n",
    "    pic_2f_a = M_2f_a.take_a_picture(first_wave)\n",
    "    \n",
    "    fig = plt.figure(figsize=(14, 10))\n",
    "    attenuation_factor = mask_attenuation\n",
    "    phase_factor = mask_phase_in_pies\n",
    "    plt.title(f' phase_factor over pi{phase_factor:.2f} {attenuation_factor=:.2f}')\n",
    "    plt.imshow(pic_2f_a.values)  # , extent=pic_2f_a.coordinates.limits\n",
    "    plt.colorbar()\n",
    "    \n",
    "    plt.xlabel(\"y\")\n",
    "    plt.ylabel(\"x\")\n",
    "#     M_2f_a.plot_step(cavity)\n",
    "    return phase_factor, attenuation_factor\n",
    "\n",
    "I = widgets.interactive(f, infinitesimal_mask=True, radius_microns=(0, 100, 1), mask_phase_in_pies=(0, 2, 0.1), mask_attenuation=(0,1, 0.01), defocus_nm=(-100, 100, 1), Cs_nm=(0, 100, 1), n_electrons=(0, 300, 2), ring_cavity=True);\n",
    "button = widgets.Button(description=\"Save Image\")\n",
    "\n",
    "display(button)\n",
    "display(I)\n",
    "\n",
    "\n",
    "def on_button_clicked(b):\n",
    "    d = dict(zip([s.description for s in I.children[:-1]], [s.value for s in I.children[:-1]]))\n",
    "    phase_factor, attenuation_factor = f(**d)\n",
    "    if d['infinitesimal_mask']:\n",
    "        mask_width='eps'\n",
    "    else:\n",
    "        mask_width=f\"{d['radius_microns']:.2f}\"\n",
    "    title = f'phase_factor in pies={phase_factor:.2f} attenuation_factor={attenuation_factor:.2f} mask_width_microns={mask_width}defocus_nm={d[\"defocus_nm\"]} Cs_nm={d[\"Cs_nm\"]} n_electrons={d[\"n_electrons\"]}'\n",
    "    plt.title(title)\n",
    "    plt.savefig(f\"examples\\\\{title}.png\")\n",
    "    plt.close()\n",
    "button.on_click(on_button_clicked)"
   ]
  },
  {
   "cell_type": "markdown",
   "id": "ab52b24e",
   "metadata": {
    "pycharm": {
     "name": "#%% md\n"
    }
   },
   "source": [
    "# Generate and many plots at once:"
   ]
  },
  {
   "cell_type": "code",
   "execution_count": null,
   "id": "d7dfb5cb",
   "metadata": {
    "pycharm": {
     "name": "#%%\n"
    }
   },
   "outputs": [],
   "source": [
    "N_POINTS = 256  # Resolution of image\n",
    "pixel_size = 1e-10\n",
    "# %%\n",
    "input_coordinate_system = CoordinateSystem(dxdydz=(pixel_size, pixel_size), n_points=(N_POINTS, N_POINTS))\n",
    "first_wave = WaveFunction(psi=np.ones((N_POINTS, N_POINTS)),\n",
    "                          coordinates=input_coordinate_system,\n",
    "                          E0=Joules_of_keV(300))\n",
    "\n",
    "dummy_sample = SamplePropagator(dummy_potential=f'letters_{N_POINTS}',\n",
    "                                coordinates_for_dummy_potential=CoordinateSystem(axes=(input_coordinate_system.x_axis,\n",
    "                                                                                       input_coordinate_system.y_axis,\n",
    "                                                                                       np.linspace(-5e-10, 5e-10, 2)\n",
    "                                                                                       )))\n",
    "\n",
    "\n",
    "first_lens = LensPropagator(focal_length=3.3e-3, fft_shift=True)\n",
    "second_lens = LensPropagator(focal_length=3.3e-3, fft_shift=False)\n",
    "for ring_cavity in [True, False]:\n",
    "    for cavity_propagator in [CavityNumericalPropagator]:   # CavityAnalyticalPropagator\n",
    "        for NA_1 in [0.05, 0.08, 0.1, 0.15, 0.2]:  #\n",
    "            for E_2 in [-1, None]:  # (with and without a second laser)\n",
    "                for Cs in [0, 1e-8, 5e-8]:\n",
    "                    for defocus in [-1e-7, -5e-8, -1e-8, 1e-8, 5e-8, 1e-8]:\n",
    "                        if cavity_propagator.__name__ == 'CavityAnalyticalPropagator':\n",
    "                            cavity_name = 'Analytical'\n",
    "                        else:\n",
    "                            cavity_name = 'Numerical'\n",
    "                        if E_2 == -1:\n",
    "                            two_lasers = 'True'\n",
    "                        else:\n",
    "                            two_lasers = 'False'\n",
    "                        title = f'NA_1={NA_1}, ring_cavity={ring_cavity}, type={cavity_name},' \\\n",
    "                                f'two_lasers={two_lasers}, Cs={Cs}, defocus={defocus}'\n",
    "                        print(f\"Calculating {title}...\", end='\\r')\n",
    "                        C = cavity_propagator(NA_1=NA_1, ring_cavity=ring_cavity, E_2=E_2, ignore_past_files=True)\n",
    "                        aberrations_propagator = AberrationsPropagator(Cs=Cs, defocus=defocus)\n",
    "                        M = Microscope([dummy_sample, first_lens, C, second_lens, aberrations_propagator])\n",
    "                        pic = M.take_a_picture(first_wave)\n",
    "                        plt.imshow(pic.values, extent=input_coordinate_system.limits)\n",
    "                        plt.title(title)\n",
    "#                         plt.savefig(f'Figures\\\\{title}.png')\n",
    "                        print(f\"Calculating {title} - finished\")\n",
    "print(\"finished\")"
   ]
  },
  {
   "cell_type": "markdown",
   "id": "887ddf6b",
   "metadata": {
    "pycharm": {
     "name": "#%% md\n"
    }
   },
   "source": [
    "# Compare effective cavity phase masks:"
   ]
  },
  {
   "cell_type": "code",
   "execution_count": null,
   "id": "183b18a4",
   "metadata": {
    "pycharm": {
     "name": "#%%\n"
    }
   },
   "outputs": [
    {
     "name": "stdout",
     "output_type": "stream",
     "text": [
      "for E_1 = 7.9e+08 the resulted phase is -0.50 pi\n",
      "for E_1 = 1.4e+09 the resulted phase is -0.50 pi\n",
      "Calculating layers 1-3 out of 3 in axis 2\n",
      "Calculating layers 1-3 out of 3 in axis 2\n",
      "for E_1 = 6.5e+08 the resulted phase is -0.50 pi\n",
      "Calculating layers 1-3 out of 3 in axis 2\n",
      "Calculating layers 1-3 out of 3 in axis 2\n",
      "for E_1 = 9.2e+08 the resulted phase is -0.50 pi\n",
      "Calculating layers 1-2 out of 3 in axis 2\n",
      "Calculating layers 3-3 out of 3 in axis 2\n",
      "Calculating layers 1-2 out of 3 in axis 2\n"
     ]
    }
   ],
   "source": [
    "N_POINTS = 64  # Resolution of image\n",
    "l_1 = 1064e-9\n",
    "l_2 = 532e-9\n",
    "NA_1 = 0.05\n",
    "input_coordinate_system = CoordinateSystem(dxdydz=(pixel_size, pixel_size), n_points=(N_POINTS, N_POINTS))\n",
    "first_wave = WaveFunction(psi=np.ones((N_POINTS, N_POINTS)),\n",
    "                          coordinates=input_coordinate_system,\n",
    "                          E0=Joules_of_keV(300))\n",
    "\n",
    "first_lens = LensPropagator(focal_length=3.3e-3, fft_shift=True)\n",
    "\n",
    "\n",
    "cavity_2f_analytical = CavityAnalyticalPropagator(l_1=l_1, l_2=l_2, E_1=-1, NA_1=NA_1, ring_cavity=False, starting_E_in_auto_E_search=1e3)\n",
    "cavity_2f_analytical_ring = CavityAnalyticalPropagator(l_1=l_1, l_2=l_2, E_1=-1, NA_1=NA_1, ring_cavity=True)\n",
    "cavity_2f_numerical = CavityNumericalPropagator(l_1=l_1, l_2=l_2, E_1=-1, NA_1=NA_1, ring_cavity=False, ignore_past_files=False)\n",
    "cavity_2f_numerical_ring = CavityNumericalPropagator(l_1=l_1, l_2=l_2, E_1=-1, NA_1=NA_1, ring_cavity=True, ignore_past_files=False)\n",
    "\n",
    "fourier_plane_wave = first_lens.propagate(first_wave)\n",
    "\n",
    "phase_and_amplitude_mask_a = cavity_2f_analytical.phase_and_amplitude_mask(fourier_plane_wave)\n",
    "phase_and_amplitude_mask_a_ring = cavity_2f_analytical_ring.phase_and_amplitude_mask(fourier_plane_wave)\n",
    "phase_and_amplitude_mask_n = cavity_2f_numerical.phase_and_amplitude_mask(fourier_plane_wave)\n",
    "phase_and_amplitude_mask_n_ring = cavity_2f_numerical_ring.phase_and_amplitude_mask(fourier_plane_wave)\n",
    "\n",
    "\n",
    "fig = plt.figure(figsize=(12, 12))\n",
    "ax1 = fig.add_subplot(221)\n",
    "im1 = ax1.imshow(np.real(np.angle(phase_and_amplitude_mask_a)), extent=fourier_plane_wave.coordinates.limits)\n",
    "divider = make_axes_locatable(ax1)\n",
    "ax1.set_title('analytical - phase')\n",
    "cax = divider.append_axes('right', size='5%', pad=0.05)\n",
    "fig.colorbar(im1, cax=cax, orientation='vertical')\n",
    "\n",
    "ax2 = fig.add_subplot(222)\n",
    "im2 = ax2.imshow(np.abs(phase_and_amplitude_mask_a)**2, extent=fourier_plane_wave.coordinates.limits)\n",
    "divider = make_axes_locatable(ax2)\n",
    "ax2.set_title('analytical - intensity')\n",
    "cax = divider.append_axes('right', size='5%', pad=0.05)\n",
    "fig.colorbar(im2, cax=cax, orientation='vertical')\n",
    "\n",
    "ax3 = fig.add_subplot(223)\n",
    "im3 = ax3.imshow(np.real(np.angle(phase_and_amplitude_mask_n)), extent=fourier_plane_wave.coordinates.limits)\n",
    "divider = make_axes_locatable(ax3)\n",
    "ax3.set_title('numerical - phase')\n",
    "cax = divider.append_axes('right', size='5%', pad=0.05)\n",
    "fig.colorbar(im3, cax=cax, orientation='vertical')\n",
    "\n",
    "ax4 = fig.add_subplot(224)\n",
    "im4 = ax4.imshow(np.abs(phase_and_amplitude_mask_n)**2, extent=fourier_plane_wave.coordinates.limits)\n",
    "divider = make_axes_locatable(ax4)\n",
    "ax4.set_title('numerical - intensity')\n",
    "cax = divider.append_axes('right', size='5%', pad=0.05)\n",
    "fig.colorbar(im4, cax=cax, orientation='vertical')\n",
    "plt.show()\n",
    "\n",
    "\n",
    "fig = plt.figure(figsize=(12, 12))\n",
    "ax1 = fig.add_subplot(221)\n",
    "im1 = ax1.imshow(np.real(np.angle(phase_and_amplitude_mask_a_ring)), extent=fourier_plane_wave.coordinates.limits)\n",
    "divider = make_axes_locatable(ax1)\n",
    "ax1.set_title('analytical - phase')\n",
    "cax = divider.append_axes('right', size='5%', pad=0.05)\n",
    "fig.colorbar(im1, cax=cax, orientation='vertical')\n",
    "\n",
    "ax2 = fig.add_subplot(222)\n",
    "im2 = ax2.imshow(np.abs(phase_and_amplitude_mask_a_ring)**2, extent=fourier_plane_wave.coordinates.limits)\n",
    "divider = make_axes_locatable(ax2)\n",
    "ax2.set_title('analytical - intensity')\n",
    "cax = divider.append_axes('right', size='5%', pad=0.05)\n",
    "fig.colorbar(im2, cax=cax, orientation='vertical')\n",
    "\n",
    "ax3 = fig.add_subplot(223)\n",
    "im3 = ax3.imshow(np.real(np.angle(phase_and_amplitude_mask_n_ring)), extent=fourier_plane_wave.coordinates.limits)\n",
    "divider = make_axes_locatable(ax3)\n",
    "ax3.set_title('numerical - phase')\n",
    "cax = divider.append_axes('right', size='5%', pad=0.05)\n",
    "fig.colorbar(im3, cax=cax, orientation='vertical')\n",
    "\n",
    "ax4 = fig.add_subplot(224)\n",
    "im4 = ax4.imshow(np.abs(phase_and_amplitude_mask_n_ring)**2, extent=fourier_plane_wave.coordinates.limits)\n",
    "divider = make_axes_locatable(ax4)\n",
    "ax4.set_title('numerical - intensity')\n",
    "cax = divider.append_axes('right', size='5%', pad=0.05)\n",
    "fig.colorbar(im4, cax=cax, orientation='vertical')\n",
    "plt.show()"
   ]
  },
  {
   "cell_type": "code",
   "execution_count": 20,
   "id": "c9e5d59a",
   "metadata": {
    "pycharm": {
     "name": "#%%\n"
    }
   },
   "outputs": [
    {
     "data": {
      "application/vnd.jupyter.widget-view+json": {
       "model_id": "c764e865e94249e3aa9926a1c21287b2",
       "version_major": 2,
       "version_minor": 0
      },
      "text/plain": [
       "Button(description='Click Me!', style=ButtonStyle())"
      ]
     },
     "metadata": {},
     "output_type": "display_data"
    },
    {
     "name": "stdout",
     "output_type": "stream",
     "text": [
      "Button clicked.\n",
      "Button clicked.\n",
      "Button clicked.\n"
     ]
    }
   ],
   "source": [
    "from IPython.display import display\n",
    "button = widgets.Button(description=\"Click Me!\")\n",
    "\n",
    "display(button)\n",
    "\n",
    "def on_button_clicked(b):\n",
    "    print(\"Button clicked.\")\n",
    "\n",
    "button.on_click(on_button_clicked)"
   ]
  }
 ],
 "metadata": {
  "kernelspec": {
   "display_name": "Python 3 (ipykernel)",
   "language": "python",
   "name": "python3"
  },
  "language_info": {
   "codemirror_mode": {
    "name": "ipython",
    "version": 3
   },
   "file_extension": ".py",
   "mimetype": "text/x-python",
   "name": "python",
   "nbconvert_exporter": "python",
   "pygments_lexer": "ipython3",
   "version": "3.9.7"
  }
 },
 "nbformat": 4,
 "nbformat_minor": 5
}