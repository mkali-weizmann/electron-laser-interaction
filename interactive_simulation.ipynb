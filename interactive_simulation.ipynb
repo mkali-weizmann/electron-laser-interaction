{
 "cells": [
  {
   "cell_type": "code",
   "execution_count": 3,
   "id": "7099f61f",
   "metadata": {},
   "outputs": [],
   "source": [
    "from microscope import *\n",
    "import ipywidgets as widgets\n",
    "\n",
    "%matplotlib inline"
   ]
  },
  {
   "cell_type": "code",
   "execution_count": 15,
   "id": "68a455e2",
   "metadata": {},
   "outputs": [],
   "source": [
    "l_1 = 1064e-9\n",
    "l_2 = 532e-9\n",
    "N_POINTS = 128  # Resolution of image\n",
    "pixel_size = 1e-10\n",
    "\n",
    "input_coordinate_system = CoordinateSystem(dxdydz=(pixel_size, pixel_size), n_points=(N_POINTS, N_POINTS))\n",
    "first_wave = WaveFunction(psi=np.ones((N_POINTS, N_POINTS)),\n",
    "                          coordinates=input_coordinate_system,\n",
    "                          E0=Joules_of_keV(300))\n",
    "\n",
    "dummy_sample = SamplePropagator(dummy_potential='letters small',\n",
    "                                axes=tuple([first_wave.coordinates.axes[0],\n",
    "                                            first_wave.coordinates.axes[1],\n",
    "                                            np.linspace(-5e-10, 5e-10, 2)]))\n",
    "\n",
    "first_lens = LensPropagator(focal_length=3.3e-3, fft_shift=True)\n",
    "second_lens = LensPropagator(focal_length=3.3e-3, fft_shift=False)\n",
    "\n",
    "E_1_default = find_amplitude_for_phase(starting_E=1e7, cavity_type='analytical', plot=False, print_progress=False, NA_1=0.05)"
   ]
  },
  {
   "cell_type": "code",
   "execution_count": 18,
   "id": "0aebabc4",
   "metadata": {},
   "outputs": [
    {
     "data": {
      "application/vnd.jupyter.widget-view+json": {
       "model_id": "b9c3c7584e794431ae732cbac0e178aa",
       "version_major": 2,
       "version_minor": 0
      },
      "text/plain": [
       "interactive(children=(FloatSlider(value=0.091, description='NA_1', max=0.2, min=0.001, step=0.01), FloatSlider…"
      ]
     },
     "metadata": {},
     "output_type": "display_data"
    }
   ],
   "source": [
    "def f(NA_1, defocus, Cs, n_electrons, ring_cavity, E_1):\n",
    "    cavity = CavityAnalyticalPropagator(l_1=l_1, l_2=l_2, E_1=E_1, NA_1=NA_1)\n",
    "    aberration_propagator = AberrationsPropagator(Cs=Cs, defocus=defocus, atigmatism_parameter=0, astigmatism_orientation=0)\n",
    "    \n",
    "    M_2f_a = Microscope([dummy_sample, first_lens, cavity, second_lens, aberration_propagator], n_electrons=n_electrons)\n",
    "    pic_2f_a, _ = M_2f_a.take_a_picture(first_wave)\n",
    "    \n",
    "    fig, ax = plt.subplots(1, 1, figsize=(14, 10))\n",
    "    \n",
    "    ax[0].imshow(pic_2f_a)\n",
    "    ax[0].colorbar()\n",
    "    ax[0].xlabel(\"x\")\n",
    "    ax[0].ylabel(\"z\")\n",
    "    \n",
    "\n",
    "widgets.interact(f, NA_1=(0.001, 0.2, 0.01), defocus=(0, 1e-21, 3e-23), Cs=(0, 1e-7, 1e-9), n_electrons=(0, 1e8, 1e7), ring_cavity=True, E_1=(E_1_default / 5, E_1_default * 5, E_1_default / 4));"
   ]
  }
 ],
 "metadata": {
  "kernelspec": {
   "display_name": "Python 3 (ipykernel)",
   "language": "python",
   "name": "python3"
  },
  "language_info": {
   "codemirror_mode": {
    "name": "ipython",
    "version": 3
   },
   "file_extension": ".py",
   "mimetype": "text/x-python",
   "name": "python",
   "nbconvert_exporter": "python",
   "pygments_lexer": "ipython3",
   "version": "3.10.8"
  }
 },
 "nbformat": 4,
 "nbformat_minor": 5
}
