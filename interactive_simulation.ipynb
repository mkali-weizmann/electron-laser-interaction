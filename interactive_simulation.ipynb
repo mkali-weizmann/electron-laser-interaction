{
 "cells": [
  {
   "cell_type": "code",
   "execution_count": 1,
   "id": "7099f61f",
   "metadata": {},
   "outputs": [],
   "source": [
    "from microscope import *\n",
    "import ipywidgets as widgets\n",
    "\n",
    "%matplotlib inline"
   ]
  },
  {
   "cell_type": "code",
   "execution_count": 11,
   "id": "68a455e2",
   "metadata": {},
   "outputs": [],
   "source": [
    "l_1 = 1064e-9\n",
    "l_2 = 532e-9\n",
    "N_POINTS = 256  # Resolution of image\n",
    "pixel_size = 1e-10\n",
    "\n",
    "input_coordinate_system = CoordinateSystem(dxdydz=(pixel_size, pixel_size), n_points=(N_POINTS, N_POINTS))\n",
    "first_wave = WaveFunction(psi=np.ones((N_POINTS, N_POINTS)),\n",
    "                          coordinates=input_coordinate_system,\n",
    "                          E0=Joules_of_keV(300))\n",
    "\n",
    "dummy_sample = SamplePropagator(dummy_potential=f'letters_{N_POINTS}',\n",
    "                                coordinates_for_dummy_potential=CoordinateSystem(axes=(input_coordinate_system.x_axis,\n",
    "                                                                                       input_coordinate_system.y_axis,\n",
    "                                                                                       np.linspace(-5e-10, 5e-10, 2)\n",
    "                                                                                       )))\n",
    "\n",
    "first_lens = LensPropagator(focal_length=3.3e-3, fft_shift=True)\n",
    "second_lens = LensPropagator(focal_length=3.3e-3, fft_shift=False)\n",
    "\n",
    "E_1_default = find_amplitude_for_phase(starting_E=1e7, cavity_type='analytical', print_progress=False, NA_1=0.05)"
   ]
  },
  {
   "cell_type": "code",
   "execution_count": 15,
   "id": "0aebabc4",
   "metadata": {},
   "outputs": [
    {
     "data": {
      "application/vnd.jupyter.widget-view+json": {
       "model_id": "42fe421c83d941ceb14dc53796a3e898",
       "version_major": 2,
       "version_minor": 0
      },
      "text/plain": [
       "interactive(children=(FloatSlider(value=0.091, description='NA_1', max=0.2, min=0.001, step=0.01), FloatSlider…"
      ]
     },
     "metadata": {},
     "output_type": "display_data"
    }
   ],
   "source": [
    "def f(NA_1, defocus_nm, Cs_nm, n_electrons, ring_cavity, E_1):\n",
    "    cavity = CavityAnalyticalPropagator(l_1=l_1, l_2=l_2, E_1=E_1, NA_1=NA_1)\n",
    "    aberration_propagator = AberrationsPropagator(Cs=Cs_nm*1e-9, defocus=defocus_nm*1e-9, astigmatism_parameter=0, astigmatism_orientation=0)\n",
    "    \n",
    "    M_2f_a = Microscope([dummy_sample, first_lens, cavity, second_lens, aberration_propagator], n_electrons=n_electrons)\n",
    "    pic_2f_a = M_2f_a.take_a_picture(first_wave)\n",
    "    \n",
    "#     fig, ax = plt.subplots(1, 1, figsize=(14, 10))\n",
    "    fig = plt.figure(figsize=(14, 10))\n",
    "    plt.imshow(pic_2f_a.values)  # , extent=pic_2f_a.coordinates.limits\n",
    "    plt.colorbar()\n",
    "    \n",
    "    plt.xlabel(\"y\")\n",
    "    plt.ylabel(\"x\")\n",
    "    \n",
    "\n",
    "widgets.interact(f, NA_1=(0.001, 0.2, 0.01), defocus_nm=(-10, 10, 0.1), Cs_nm=(0, 100, 1), n_electrons=(0, 1e8, 1e7), ring_cavity=True, E_1=(E_1_default / 5, E_1_default * 5, E_1_default / 100));"
   ]
  },
  {
   "cell_type": "code",
   "execution_count": 7,
   "id": "3bbdf66f",
   "metadata": {},
   "outputs": [
    {
     "data": {
      "application/vnd.jupyter.widget-view+json": {
       "model_id": "0d1d8807982d4aadac03fa09a4b90e65",
       "version_major": 2,
       "version_minor": 0
      },
      "text/plain": [
       "interactive(children=(Dropdown(description='NA_1', options=(0.03, 0.05, 0.08, 0.1, 0.15, 0.2), value=0.03), Fl…"
      ]
     },
     "metadata": {},
     "output_type": "display_data"
    }
   ],
   "source": [
    "l_1 = 1064e-9\n",
    "l_2 = 532e-9\n",
    "N_POINTS = 256  # Resolution of image\n",
    "pixel_size = 1e-10\n",
    "\n",
    "input_coordinate_system = CoordinateSystem(dxdydz=(pixel_size, pixel_size), n_points=(N_POINTS, N_POINTS))\n",
    "first_wave = WaveFunction(psi=np.ones((N_POINTS, N_POINTS)),\n",
    "                          coordinates=input_coordinate_system,\n",
    "                          E0=Joules_of_keV(300))\n",
    "\n",
    "dummy_sample = SamplePropagator(dummy_potential=f'letters_{N_POINTS}',\n",
    "                                coordinates_for_dummy_potential=CoordinateSystem(axes=(input_coordinate_system.x_axis,\n",
    "                                                                                       input_coordinate_system.y_axis,\n",
    "                                                                                       np.linspace(-5e-10, 5e-10, 2)\n",
    "                                                                                       )))\n",
    "E_1_default = find_amplitude_for_phase(starting_E=1e7, cavity_type='analytical', print_progress=False, NA_1=0.05)\n",
    "first_lens = LensPropagator(focal_length=3.3e-3, fft_shift=True)\n",
    "second_lens = LensPropagator(focal_length=3.3e-3, fft_shift=False)\n",
    "\n",
    "E_1_default = find_amplitude_for_phase(starting_E=1e7, cavity_type='analytical', print_progress=False, NA_1=0.05)\n",
    "\n",
    "def f(NA_1, defocus, Cs, n_electrons, ring_cavity, E_1):\n",
    "    cavity = CavityNumericalPropagator(l_1=l_1, l_2=l_2, E_1=-1, NA_1=NA_1)\n",
    "    aberration_propagator = AberrationsPropagator(Cs=Cs, defocus=defocus, astigmatism_parameter=0, astigmatism_orientation=0)\n",
    "    \n",
    "    M_2f_a = Microscope([dummy_sample, first_lens, cavity, second_lens, aberration_propagator], n_electrons=n_electrons)\n",
    "    pic_2f_a = M_2f_a.take_a_picture(first_wave)\n",
    "    \n",
    "#     fig, ax = plt.subplots(1, 1, figsize=(14, 10))\n",
    "    fig = plt.figure(figsize=(14, 10))\n",
    "    plt.imshow(pic_2f_a.values)  # , extent=pic_2f_a.coordinates.limits\n",
    "    plt.colorbar()\n",
    "    \n",
    "    plt.xlabel(\"y\")\n",
    "    plt.ylabel(\"x\")\n",
    "    \n",
    "\n",
    "widgets.interact(f, NA_1=[0.03, 0.05, 0.08, 0.1, 0.15, 0.2], defocus=(-1e-8, 1e-8, 3e-10), Cs=(0, 1e-7, 1e-9), n_electrons=(0, 1e8, 1e7), ring_cavity=True, E_1=(E_1_default / 5, E_1_default * 5, E_1_default / 100));"
   ]
  }
 ],
 "metadata": {
  "kernelspec": {
   "display_name": "Python 3 (ipykernel)",
   "language": "python",
   "name": "python3"
  },
  "language_info": {
   "codemirror_mode": {
    "name": "ipython",
    "version": 3
   },
   "file_extension": ".py",
   "mimetype": "text/x-python",
   "name": "python",
   "nbconvert_exporter": "python",
   "pygments_lexer": "ipython3",
   "version": "3.10.8"
  }
 },
 "nbformat": 4,
 "nbformat_minor": 5
}
